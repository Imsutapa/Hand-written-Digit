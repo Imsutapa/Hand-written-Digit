{
 "cells": [
  {
   "cell_type": "markdown",
   "id": "96db7667",
   "metadata": {},
   "source": [
    "### only digits are there . digits are repeated randomly. "
   ]
  },
  {
   "cell_type": "code",
   "execution_count": 1,
   "id": "cadc0861",
   "metadata": {},
   "outputs": [
    {
     "data": {
      "text/plain": [
       "['DESCR', 'data', 'feature_names', 'frame', 'images', 'target', 'target_names']"
      ]
     },
     "execution_count": 1,
     "metadata": {},
     "output_type": "execute_result"
    }
   ],
   "source": [
    "from sklearn import datasets\n",
    "import matplotlib.pyplot as plt \n",
    " \n",
    "dg = datasets.load_digits()\n",
    "dir(dg)\n"
   ]
  },
  {
   "cell_type": "code",
   "execution_count": 2,
   "id": "8c39533c",
   "metadata": {},
   "outputs": [
    {
     "data": {
      "text/plain": [
       "array([[ 0.,  0.,  5., 13.,  9.,  1.,  0.,  0.,  0.,  0., 13., 15., 10.,\n",
       "        15.,  5.,  0.,  0.,  3., 15.,  2.,  0., 11.,  8.,  0.,  0.,  4.,\n",
       "        12.,  0.,  0.,  8.,  8.,  0.,  0.,  5.,  8.,  0.,  0.,  9.,  8.,\n",
       "         0.,  0.,  4., 11.,  0.,  1., 12.,  7.,  0.,  0.,  2., 14.,  5.,\n",
       "        10., 12.,  0.,  0.,  0.,  0.,  6., 13., 10.,  0.,  0.,  0.],\n",
       "       [ 0.,  0.,  0., 12., 13.,  5.,  0.,  0.,  0.,  0.,  0., 11., 16.,\n",
       "         9.,  0.,  0.,  0.,  0.,  3., 15., 16.,  6.,  0.,  0.,  0.,  7.,\n",
       "        15., 16., 16.,  2.,  0.,  0.,  0.,  0.,  1., 16., 16.,  3.,  0.,\n",
       "         0.,  0.,  0.,  1., 16., 16.,  6.,  0.,  0.,  0.,  0.,  1., 16.,\n",
       "        16.,  6.,  0.,  0.,  0.,  0.,  0., 11., 16., 10.,  0.,  0.]])"
      ]
     },
     "execution_count": 2,
     "metadata": {},
     "output_type": "execute_result"
    }
   ],
   "source": [
    "X = dg.data \n",
    "X[0:2]"
   ]
  },
  {
   "cell_type": "code",
   "execution_count": 3,
   "id": "e48e8786",
   "metadata": {},
   "outputs": [
    {
     "data": {
      "text/plain": [
       "array([0, 1, 2, 3, 4, 5, 6, 7, 8, 9, 0, 1, 2, 3, 4, 5, 6, 7, 8, 9, 0, 1,\n",
       "       2, 3, 4, 5, 6, 7, 8, 9])"
      ]
     },
     "execution_count": 3,
     "metadata": {},
     "output_type": "execute_result"
    }
   ],
   "source": [
    "y = dg.target\n",
    "y[0:30]"
   ]
  },
  {
   "cell_type": "code",
   "execution_count": 4,
   "id": "2979ce67",
   "metadata": {},
   "outputs": [
    {
     "name": "stdout",
     "output_type": "stream",
     "text": [
      "1 5 0 9 5 2 8 2 0 0 1 7 6 3 2 1 7 3 1 3 9 1 7 6 8 4 3 1 4 0 5 3 6 9 6 1 7 5 4 4 7 2 8 2 2 5 5 4 8 8 4 9 0 8 9 8 0 1 2 3 4 5 6 7 8 9 0 1 2 3 4 5 6 7 8 9 0 1 2 3 4 5 6 7 8 9 0 9 5 5 6 5 0 9 8 9 8 4 1 7 7 3 5 1 0 0 2 2 7 8 2 0 1 2 6 3 3 7 3 3 4 6 6 6 4 9 1 5 0 9 5 2 8 2 0 0 1 7 6 3 2 1 7 4 6 3 1 3 9 1 7 6 8 4 3 1 4 0 5 3 6 9 6 1 7 5 4 4 7 2 8 2 2 5 7 9 5 4 8 8 4 9 0 8 9 3 0 1 2 3 4 5 6 7 8 9 0 1 2 3 4 5 6 7 8 9 0 1 2 3 4 5 6 7 8 9 0 9 5 5 6 5 0 9 8 9 8 4 1 7 7 3 5 1 0 0 2 2 7 8 2 0 1 2 6 3 3 7 3 3 4 6 6 6 4 9 1 5 0 9 5 2 8 2 0 0 1 7 6 3 2 1 7 4 6 3 1 3 9 1 7 6 8 4 3 1 4 0 5 3 6 9 6 1 7 5 4 4 7 2 "
     ]
    }
   ],
   "source": [
    "for i in range(200,500):\n",
    "    print(y[i],end=\" \")\n",
    "    "
   ]
  },
  {
   "cell_type": "code",
   "execution_count": 5,
   "id": "e7bf278f",
   "metadata": {},
   "outputs": [
    {
     "data": {
      "text/plain": [
       "array([1, 5, 0, 9, 5, 2, 8, 2, 0, 0, 1, 7, 6, 3, 2, 1, 7, 3, 1, 3, 9, 1,\n",
       "       7, 6, 8, 4, 3, 1, 4, 0, 5, 3, 6, 9, 6, 1, 7, 5, 4, 4, 7, 2, 8, 2,\n",
       "       2, 5, 5, 4, 8, 8, 4, 9, 0, 8, 9, 8, 0, 1, 2, 3, 4, 5, 6, 7, 8, 9,\n",
       "       0, 1, 2, 3, 4, 5, 6, 7, 8, 9, 0, 1, 2, 3, 4, 5, 6, 7, 8, 9, 0, 9,\n",
       "       5, 5, 6, 5, 0, 9, 8, 9, 8, 4, 1, 7, 7, 3, 5, 1, 0, 0, 2, 2, 7, 8,\n",
       "       2, 0, 1, 2, 6, 3, 3, 7, 3, 3, 4, 6, 6, 6, 4, 9, 1, 5, 0, 9, 5, 2,\n",
       "       8, 2, 0, 0, 1, 7, 6, 3, 2, 1, 7, 4, 6, 3, 1, 3, 9, 1, 7, 6, 8, 4,\n",
       "       3, 1, 4, 0, 5, 3, 6, 9, 6, 1, 7, 5, 4, 4, 7, 2, 8, 2, 2, 5, 7, 9,\n",
       "       5, 4, 8, 8, 4, 9, 0, 8, 9, 3, 0, 1, 2, 3, 4, 5, 6, 7, 8, 9, 0, 1,\n",
       "       2, 3, 4, 5, 6, 7, 8, 9, 0, 1, 2, 3, 4, 5, 6, 7, 8, 9, 0, 9, 5, 5,\n",
       "       6, 5, 0, 9, 8, 9, 8, 4, 1, 7, 7, 3, 5, 1, 0, 0, 2, 2, 7, 8, 2, 0,\n",
       "       1, 2, 6, 3, 3, 7, 3, 3, 4, 6, 6, 6, 4, 9, 1, 5, 0, 9, 5, 2, 8, 2,\n",
       "       0, 0, 1, 7, 6, 3, 2, 1, 7, 4, 6, 3, 1, 3, 9, 1, 7, 6, 8, 4, 3, 1,\n",
       "       4, 0, 5, 3, 6, 9, 6, 1, 7, 5, 4, 4, 7, 2])"
      ]
     },
     "execution_count": 5,
     "metadata": {},
     "output_type": "execute_result"
    }
   ],
   "source": [
    "dg.target[200:500]"
   ]
  },
  {
   "cell_type": "code",
   "execution_count": 6,
   "id": "3ec2c242",
   "metadata": {},
   "outputs": [
    {
     "data": {
      "text/plain": [
       "<matplotlib.image.AxesImage at 0x1cadbbb2c40>"
      ]
     },
     "execution_count": 6,
     "metadata": {},
     "output_type": "execute_result"
    },
    {
     "data": {
      "text/plain": [
       "<Figure size 432x288 with 0 Axes>"
      ]
     },
     "metadata": {},
     "output_type": "display_data"
    },
    {
     "data": {
      "image/png": "[encoded data removed]",
      "text/plain": [
       "<Figure size 288x288 with 1 Axes>"
      ]
     },
     "metadata": {
      "needs_background": "light"
     },
     "output_type": "display_data"
    }
   ],
   "source": [
    "plt.gray()\n",
    "plt.matshow(dg.images[1])"
   ]
  },
  {
   "cell_type": "code",
   "execution_count": 7,
   "id": "9709d14a",
   "metadata": {},
   "outputs": [
    {
     "data": {
      "image/png": "[encoded data removed]",
      "text/plain": [
       "<Figure size 288x288 with 1 Axes>"
      ]
     },
     "metadata": {
      "needs_background": "light"
     },
     "output_type": "display_data"
    },
    {
     "data": {
      "image/png": "[encoded data removed]",
      "text/plain": [
       "<Figure size 288x288 with 1 Axes>"
      ]
     },
     "metadata": {
      "needs_background": "light"
     },
     "output_type": "display_data"
    },
    {
     "data": {
      "image/png": "[encoded data removed]",
      "text/plain": [
       "<Figure size 288x288 with 1 Axes>"
      ]
     },
     "metadata": {
      "needs_background": "light"
     },
     "output_type": "display_data"
    }
   ],
   "source": [
    "for i in range(3):\n",
    " plt.matshow(dg.images[i])"
   ]
  },
  {
   "cell_type": "code",
   "execution_count": 8,
   "id": "bb042163",
   "metadata": {},
   "outputs": [
    {
     "name": "stdout",
     "output_type": "stream",
     "text": [
      "[0 1 2]\n"
     ]
    }
   ],
   "source": [
    "print(dg.target[0:3])"
   ]
  },
  {
   "cell_type": "code",
   "execution_count": 9,
   "id": "fe50a583",
   "metadata": {},
   "outputs": [],
   "source": [
    "from sklearn.model_selection import train_test_split\n",
    "X_train, X_test, y_train, y_test = train_test_split(X, y, test_size = 0.2, random_state=0, stratify=y)"
   ]
  },
  {
   "cell_type": "code",
   "execution_count": 10,
   "id": "468a8a01",
   "metadata": {},
   "outputs": [
    {
     "data": {
      "text/plain": [
       "LogisticRegression(max_iter=7000)"
      ]
     },
     "execution_count": 10,
     "metadata": {},
     "output_type": "execute_result"
    }
   ],
   "source": [
    "from sklearn.linear_model import LogisticRegression\n",
    "r=LogisticRegression(max_iter=7000)\n",
    "r.fit(X_train,y_train)"
   ]
  },
  {
   "cell_type": "code",
   "execution_count": 11,
   "id": "56fe0b93",
   "metadata": {},
   "outputs": [
    {
     "name": "stdout",
     "output_type": "stream",
     "text": [
      "1437\n"
     ]
    }
   ],
   "source": [
    "print(len(X_train))"
   ]
  },
  {
   "cell_type": "code",
   "execution_count": 12,
   "id": "e29a2bdd",
   "metadata": {},
   "outputs": [
    {
     "name": "stdout",
     "output_type": "stream",
     "text": [
      "360\n"
     ]
    }
   ],
   "source": [
    "print(len(X_test))"
   ]
  },
  {
   "cell_type": "code",
   "execution_count": 13,
   "id": "900cbb22",
   "metadata": {},
   "outputs": [
    {
     "name": "stdout",
     "output_type": "stream",
     "text": [
      "0.9611111111111111\n"
     ]
    }
   ],
   "source": [
    "print(r.score(X_test,y_test))"
   ]
  },
  {
   "cell_type": "code",
   "execution_count": 14,
   "id": "b62ffeee",
   "metadata": {},
   "outputs": [
    {
     "data": {
      "text/plain": [
       "<matplotlib.image.AxesImage at 0x1cadccde490>"
      ]
     },
     "execution_count": 14,
     "metadata": {},
     "output_type": "execute_result"
    },
    {
     "data": {
      "image/png": "[encoded data removed]",
      "text/plain": [
       "<Figure size 288x288 with 1 Axes>"
      ]
     },
     "metadata": {
      "needs_background": "light"
     },
     "output_type": "display_data"
    }
   ],
   "source": [
    "plt.matshow(dg.images[56])"
   ]
  },
  {
   "cell_type": "code",
   "execution_count": 36,
   "id": "63d8275f",
   "metadata": {},
   "outputs": [
    {
     "data": {
      "text/plain": [
       "<matplotlib.image.AxesImage at 0x1cadde34100>"
      ]
     },
     "execution_count": 36,
     "metadata": {},
     "output_type": "execute_result"
    },
    {
     "data": {
      "image/png": "[encoded data removed]",
      "text/plain": [
       "<Figure size 288x288 with 1 Axes>"
      ]
     },
     "metadata": {
      "needs_background": "light"
     },
     "output_type": "display_data"
    }
   ],
   "source": [
    "plt.matshow(dg.images[34])"
   ]
  },
  {
   "cell_type": "code",
   "execution_count": 37,
   "id": "a58acfba",
   "metadata": {},
   "outputs": [
    {
     "name": "stdout",
     "output_type": "stream",
     "text": [
      "6\n"
     ]
    }
   ],
   "source": [
    "print(dg.target[34])"
   ]
  },
  {
   "cell_type": "code",
   "execution_count": 38,
   "id": "4dbcd2c8",
   "metadata": {},
   "outputs": [
    {
     "name": "stdout",
     "output_type": "stream",
     "text": [
      " Predicted Val :  [6]\n"
     ]
    }
   ],
   "source": [
    "pred=r.predict([dg.data[34]])\n",
    "print(\" Predicted Val : \",pred)"
   ]
  },
  {
   "cell_type": "code",
   "execution_count": 17,
   "id": "5abc640a",
   "metadata": {},
   "outputs": [],
   "source": [
    "y_pre=r.predict(X_test)"
   ]
  },
  {
   "cell_type": "code",
   "execution_count": 18,
   "id": "4caac534",
   "metadata": {},
   "outputs": [
    {
     "data": {
      "text/plain": [
       "array([7, 6, 3, 7, 7, 3, 2, 8, 9, 3, 2, 6, 6, 4, 5, 1, 1, 3, 5, 6, 3, 8,\n",
       "       7, 3, 0, 2, 8, 4, 5, 8, 6, 7, 0, 1, 2, 2, 2, 7, 0, 5, 9, 9, 0, 9,\n",
       "       1, 1, 3, 5, 9, 7, 8, 3, 4, 3, 0, 3, 8, 2, 6, 0, 4, 8, 9, 1, 9, 6,\n",
       "       7, 3, 4, 9, 0, 6, 2, 8, 8, 3, 8, 9, 7, 9, 2, 6, 3, 1, 0, 8, 7, 3,\n",
       "       5, 0, 1, 4, 9, 6, 3, 4, 5, 9, 2, 6, 5, 2, 1, 5, 9, 1, 1, 1, 9, 7,\n",
       "       6, 9, 5, 5, 0, 5, 2, 4, 0, 2, 7, 2, 1, 1, 5, 6, 5, 8, 6, 9, 7, 0,\n",
       "       9, 3, 4, 1, 8, 8, 6, 9, 2, 5, 4, 3, 3, 5, 0, 7, 6, 8, 0, 3, 9, 2,\n",
       "       1, 2, 5, 8, 2, 0, 5, 1, 0, 6, 3, 1, 3, 7, 8, 5, 2, 3, 5, 7, 9, 4,\n",
       "       6, 6, 6, 8, 4, 9, 1, 1, 1, 4, 9, 9, 9, 9, 4, 1, 6, 4, 1, 3, 5, 9,\n",
       "       0, 9, 3, 6, 0, 6, 7, 7, 5, 3, 5, 1, 6, 9, 5, 1, 4, 6, 2, 0, 5, 8,\n",
       "       6, 7, 0, 6, 7, 0, 2, 8, 1, 0, 1, 5, 6, 7, 2, 7, 7, 7, 2, 2, 5, 6,\n",
       "       4, 6, 1, 9, 4, 9, 4, 7, 4, 3, 8, 1, 0, 8, 4, 9, 8, 4, 7, 0, 3, 5,\n",
       "       3, 6, 2, 8, 2, 2, 8, 3, 4, 8, 7, 5, 9, 3, 2, 4, 4, 0, 6, 7, 6, 2,\n",
       "       2, 7, 8, 1, 4, 1, 6, 4, 1, 0, 5, 1, 2, 0, 8, 3, 1, 9, 9, 2, 6, 9,\n",
       "       8, 0, 3, 5, 3, 9, 8, 1, 7, 4, 5, 4, 1, 5, 3, 1, 4, 1, 5, 0, 3, 1,\n",
       "       2, 0, 0, 8, 5, 8, 0, 0, 5, 3, 0, 4, 0, 4, 1, 9, 2, 7, 7, 1, 4, 3,\n",
       "       7, 7, 7, 4, 0, 6, 3, 7])"
      ]
     },
     "execution_count": 18,
     "metadata": {},
     "output_type": "execute_result"
    }
   ],
   "source": [
    "y_pre"
   ]
  },
  {
   "cell_type": "code",
   "execution_count": 19,
   "id": "5cf5b706",
   "metadata": {},
   "outputs": [
    {
     "data": {
      "text/plain": [
       "array([[36,  0,  0,  0,  0,  0,  0,  0,  0,  0],\n",
       "       [ 0, 35,  0,  0,  0,  0,  0,  0,  1,  0],\n",
       "       [ 0,  1, 34,  0,  0,  0,  0,  0,  0,  0],\n",
       "       [ 0,  0,  0, 37,  0,  0,  0,  0,  0,  0],\n",
       "       [ 0,  1,  0,  0, 34,  0,  0,  0,  1,  0],\n",
       "       [ 0,  0,  0,  1,  0, 35,  0,  1,  0,  0],\n",
       "       [ 0,  1,  0,  0,  0,  0, 35,  0,  0,  0],\n",
       "       [ 0,  0,  0,  0,  0,  0,  0, 35,  0,  1],\n",
       "       [ 0,  3,  0,  0,  0,  0,  1,  0, 30,  1],\n",
       "       [ 0,  0,  0,  0,  0,  1,  0,  0,  0, 35]], dtype=int64)"
      ]
     },
     "execution_count": 19,
     "metadata": {},
     "output_type": "execute_result"
    }
   ],
   "source": [
    "from sklearn.metrics import confusion_matrix\n",
    "cm=confusion_matrix(y_test,y_pre)\n",
    "cm\n"
   ]
  },
  {
   "cell_type": "code",
   "execution_count": 20,
   "id": "9939ec13",
   "metadata": {},
   "outputs": [
    {
     "data": {
      "text/plain": [
       "100"
      ]
     },
     "execution_count": 20,
     "metadata": {},
     "output_type": "execute_result"
    }
   ],
   "source": [
    "cm.size"
   ]
  },
  {
   "cell_type": "code",
   "execution_count": 21,
   "id": "3c0a510b",
   "metadata": {},
   "outputs": [
    {
     "data": {
      "text/plain": [
       "Text(69.0, 0.5, 'Actual')"
      ]
     },
     "execution_count": 21,
     "metadata": {},
     "output_type": "execute_result"
    },
    {
     "data": {
      "text/plain": [
       "<Figure size 432x288 with 0 Axes>"
      ]
     },
     "metadata": {},
     "output_type": "display_data"
    },
    {
     "data": {
      "image/png": "[encoded data removed]",
      "text/plain": [
       "<Figure size 720x432 with 2 Axes>"
      ]
     },
     "metadata": {
      "needs_background": "light"
     },
     "output_type": "display_data"
    }
   ],
   "source": [
    "import seaborn as sn\n",
    "plt.gray()\n",
    "plt.figure(figsize=(10,6))\n",
    "sn.heatmap(cm,annot=True)\n",
    "plt.xlabel('Predicted')\n",
    "plt.ylabel('Actual')"
   ]
  },
  {
   "cell_type": "code",
   "execution_count": 22,
   "id": "b3417ff2",
   "metadata": {},
   "outputs": [
    {
     "data": {
      "text/plain": [
       "<matplotlib.image.AxesImage at 0x1cadddec370>"
      ]
     },
     "execution_count": 22,
     "metadata": {},
     "output_type": "execute_result"
    },
    {
     "data": {
      "image/png": "[encoded data removed]",
      "text/plain": [
       "<Figure size 288x288 with 1 Axes>"
      ]
     },
     "metadata": {
      "needs_background": "light"
     },
     "output_type": "display_data"
    }
   ],
   "source": [
    "plt.matshow(dg.images[56])"
   ]
  },
  {
   "cell_type": "code",
   "execution_count": 23,
   "id": "bb81298a",
   "metadata": {},
   "outputs": [
    {
     "data": {
      "text/plain": [
       "1"
      ]
     },
     "execution_count": 23,
     "metadata": {},
     "output_type": "execute_result"
    }
   ],
   "source": [
    "dg.target[56]"
   ]
  },
  {
   "cell_type": "code",
   "execution_count": 24,
   "id": "f95042b4",
   "metadata": {},
   "outputs": [
    {
     "data": {
      "text/plain": [
       "array([1])"
      ]
     },
     "execution_count": 24,
     "metadata": {},
     "output_type": "execute_result"
    }
   ],
   "source": [
    "pred=r.predict(dg.data[[56]])\n",
    "pred"
   ]
  },
  {
   "cell_type": "markdown",
   "id": "8d04f0e1",
   "metadata": {},
   "source": [
    "### Now match first 20 predicted with actual digits"
   ]
  },
  {
   "cell_type": "code",
   "execution_count": 25,
   "id": "60b2ad19",
   "metadata": {},
   "outputs": [],
   "source": [
    "pred1=r.predict(dg.data[0:20])"
   ]
  },
  {
   "cell_type": "code",
   "execution_count": 26,
   "id": "86b33f06",
   "metadata": {},
   "outputs": [
    {
     "data": {
      "text/plain": [
       "array([0, 1, 2, 3, 4, 5, 6, 7, 8, 9, 0, 1, 2, 3, 4, 5, 6, 7, 8, 9])"
      ]
     },
     "execution_count": 26,
     "metadata": {},
     "output_type": "execute_result"
    }
   ],
   "source": [
    "pred1"
   ]
  },
  {
   "cell_type": "code",
   "execution_count": 27,
   "id": "5304ddaa",
   "metadata": {},
   "outputs": [
    {
     "data": {
      "text/plain": [
       "array([0, 1, 2, 3, 4, 5, 6, 7, 8, 9, 0, 1, 2, 3, 4, 5, 6, 7, 8, 9])"
      ]
     },
     "execution_count": 27,
     "metadata": {},
     "output_type": "execute_result"
    }
   ],
   "source": [
    "dg.target[0:20]"
   ]
  },
  {
   "cell_type": "code",
   "execution_count": null,
   "id": "a8d352b6",
   "metadata": {},
   "outputs": [],
   "source": []
  }
 ],
 "metadata": {
  "kernelspec": {
   "display_name": "Python 3 (ipykernel)",
   "language": "python",
   "name": "python3"
  },
  "language_info": {
   "codemirror_mode": {
    "name": "ipython",
    "version": 3
   },
   "file_extension": ".py",
   "mimetype": "text/x-python",
   "name": "python",
   "nbconvert_exporter": "python",
   "pygments_lexer": "ipython3",
   "version": "3.9.13"
  }
 },
 "nbformat": 4,
 "nbformat_minor": 5
}
